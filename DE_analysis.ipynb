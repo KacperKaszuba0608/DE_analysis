{
  "nbformat": 4,
  "nbformat_minor": 0,
  "metadata": {
    "colab": {
      "provenance": [],
      "toc_visible": true,
      "authorship_tag": "ABX9TyOcU6BZSbfLDQeJZKu/M+b7",
      "include_colab_link": true
    },
    "kernelspec": {
      "name": "ir",
      "display_name": "R"
    },
    "language_info": {
      "name": "R"
    }
  },
  "cells": [
    {
      "cell_type": "markdown",
      "metadata": {
        "id": "view-in-github",
        "colab_type": "text"
      },
      "source": [
        "<a href=\"https://colab.research.google.com/github/KacperKaszuba0608/DE_analysis/blob/main/DE_analysis.ipynb\" target=\"_parent\"><img src=\"https://colab.research.google.com/assets/colab-badge.svg\" alt=\"Open In Colab\"/></a>"
      ]
    },
    {
      "cell_type": "markdown",
      "source": [
        "# Analiza DE (Differential Expression) wyników ze zliczenia odczytów"
      ],
      "metadata": {
        "id": "oLBoDAxcHeqe"
      }
    },
    {
      "cell_type": "markdown",
      "source": [
        "<p align=justify>\n",
        "Poniższa analiza została przeprowadzona dla zmapowanych i zliczonych wyników próbek z BioProjeku \"PRJNA313294\".\n",
        "Próbki dotyczyły Zika wirusa u człowieka. Zakażenie wirusem Zika (ZIKV), powracającym flawiwirusem i mikrocefalią, jest pilnym globalnym problemem zdrowotnym. Bezpośrednie komórki docelowe ZIKV w rozwijających się ludzkich płodach nie są jasne.\n",
        "</p>"
      ],
      "metadata": {
        "id": "fTW-PePeIUwt"
      }
    },
    {
      "cell_type": "markdown",
      "source": [
        "<p align=justify>\n",
        "Przeprowadzono analizę różnic w ekspresji genów, aby sprawdzić, które geny ulegają ekspresji na różnych poziomach w różnych warunkach. Geny te mogą zapewnić biologiczny wgląd w procesy, na które wpływa stan zakażenia wirusem Zika. Z bazy <a href='https://www.ncbi.nlm.nih.gov/'>NCBI</a> pobrano w sumie 8 plików fastq dotyczących wspomnianego wcześniej projektu, następnie wykrzystano je jako pliki wsadowe dla wielu programów, które poprawiły jakość oraz przyrównały sekwencję do genomu referencyjnego. Dostęp do skryptu, który wykonuje przygotowanie pliku z wynikami do poniższej analizy znajduje się w repozytorium\n",
        "GitHub pod nazwą <a href='https://github.com/KacperKaszuba0608/DE_analysis/blob/main/fastq_processing.sh'> fastq_processing.sh </a>.\n",
        "</p>\n",
        "\n",
        "Wykorzystano w nim narzędzia takie jak:\n",
        "* `Entrez` - pobranie informacji o próbkach dotyczących wybranego projektu (PRJNA313294)\n",
        "* `fastq-dump 2.10.0` - pobranie biopróbek o konkretnych numerach SRR i o zadanej przez użytkownika liczbie odczytów\n",
        "* `FastQC v0.11.8` - sprawdzenie jakości odczytów\n",
        "* `trimmomatic-0.39` - w celu usunięcia odczytów niskiej jakości\n",
        "* `hisat2 2.1.0` - przyrównanie do sekwencji referencyjnej (hg19) [mapowanie]\n",
        "* `samtools 1.9-216-g4c82d2c` - konwersja plików `sam` do `bam`\n",
        "* `featureCounts v1.6.4` - zliczenie odczytów"
      ],
      "metadata": {
        "id": "cfcU9_BJLTED"
      }
    },
    {
      "cell_type": "markdown",
      "source": [
        "Pobrane pliki to:\n",
        "1. `SRR3191542_{1,2}.fastq` - Mock (pair end, kontrola)\n",
        "2. `SRR3191543_{1,2}.fastq` - Mock (pair end, kontrola)\n",
        "3. `SRR3191544_{1,2}.fastq` - ZIKV (pair end, zakażenie)\n",
        "4. `SRR3191545_{1,2}.fastq` - ZIKV (pair end, zakażenie)\n",
        "5. `SRR3194428_1.fastq` - Mock (single end, kontrola)\n",
        "6. `SRR3194429_1.fastq` - Mock (single end, kontrola)\n",
        "7. `SRR3194430_1.fastq` - ZIKV (single end, zakażenie)\n",
        "8. `SRR3194431_1.fastq` - ZIKV (single end, zakażenie)"
      ],
      "metadata": {
        "id": "Ql46mqIGPoI1"
      }
    },
    {
      "cell_type": "markdown",
      "source": [
        "<p align=justify>\n",
        "Pobrane pliki pochodził z dwóch urządzeń. Pliki sparowane (pair-end) zostały uzyskane za pomocą <b>Illumina MiSeq</b>, natomiast pliki pojedyncze (single-end) za pomocą <b>NextSeq 500</b>.\n",
        "</p>"
      ],
      "metadata": {
        "id": "g26kj_KkovMI"
      }
    },
    {
      "cell_type": "markdown",
      "source": [
        "# Analiza statystyczna\n",
        "\n",
        "Do analizy wykorzystano język programowania R 4.3.2 i pochodzących z niego bilbiotek: `DESeq2`, `pheatmap`, `ggfortify`, `ggplot2`."
      ],
      "metadata": {
        "id": "MtQlwu4zRWjK"
      }
    },
    {
      "cell_type": "code",
      "execution_count": null,
      "metadata": {
        "id": "v1y7qRdtHUf3"
      },
      "outputs": [],
      "source": [
        "# Instalacja potrzebnych bibliotek\n",
        "if (!require(\"BiocManager\", quietly = TRUE))\n",
        "    install.packages(\"BiocManager\")\n",
        "\n",
        "BiocManager::install(\"DESeq2\")\n",
        "install.packages(c('ggfortify', 'pheatmap', 'ggplot2'))"
      ]
    },
    {
      "cell_type": "code",
      "source": [
        "# Wczytanie potrzebnych bibliotek\n",
        "library(DESeq2)\n",
        "library(ggfortify)\n",
        "library(pheatmap)"
      ],
      "metadata": {
        "id": "mtyv_2PFR9CS"
      },
      "execution_count": null,
      "outputs": []
    },
    {
      "cell_type": "markdown",
      "source": [
        "## Wczytanie i obróbka danych"
      ],
      "metadata": {
        "id": "7eNnPBRhWvLb"
      }
    },
    {
      "cell_type": "code",
      "source": [
        "df <- read.table(\"https://github.com/KacperKaszuba0608/DE_analysis/raw/main/counted_readings.txt\", sep='\\t', header=TRUE)\n",
        "str(df)"
      ],
      "metadata": {
        "colab": {
          "base_uri": "https://localhost:8080/"
        },
        "id": "pu-Fu7ysWmeU",
        "outputId": "b54a5fa7-ee13-48b7-bdd7-e3b129815a9e"
      },
      "execution_count": 23,
      "outputs": [
        {
          "output_type": "stream",
          "name": "stdout",
          "text": [
            "'data.frame':\t28265 obs. of  14 variables:\n",
            " $ Geneid                            : chr  \"LOC102725121\" \"DDX11L1\" \"SPECC1L\" \"MIR6859-1\" ...\n",
            " $ Chr                               : chr  \"chr1;chr1;chr1;chr15;chr15;chr15\" \"chr1;chr1;chr1\" \"chr22;chr22;chr22;chr22;chr22;chr22;chr22;chr22;chr22;chr22;chr22;chr22;chr22;chr22;chr22;chr22;chr22;chr22;chr\"| __truncated__ \"chr1;chr16;chr15\" ...\n",
            " $ Start                             : chr  \"11869;12613;13221;102516808;102518449;102518943\" \"11874;12613;13221\" \"24666785;24666785;24666799;24672668;24698163;24698163;24698163;24709281;24709281;24709281;24717256;24717256;247\"| __truncated__ \"17369;67052;102513727\" ...\n",
            " $ End                               : chr  \"12227;12721;14362;102517949;102518557;102519301\" \"12227;12721;14409\" \"24666951;24666951;24666951;24672771;24698352;24698352;24698352;24709434;24709434;24709434;24718886;24718886;247\"| __truncated__ \"17436;67119;102513794\" ...\n",
            " $ Strand                            : chr  \"+;+;+;-;-;-\" \"+;+;+\" \"+;+;+;+;+;+;+;+;+;+;+;+;+;+;+;+;+;+;+;+;+;+;+;+;+;+;+;+;+;+;+;+;+;+;+;+;+;+;+;+;+;+;+;+;+;+;+;+;+;+;+;+;+;+;+;+;+\" \"-;-;+\" ...\n",
            " $ Length                            : int  3220 1652 7174 204 204 204 204 552 552 552 ...\n",
            " $ ..bam_files.trimmed_SRR3191542.bam: int  0 0 0 0 0 0 0 0 0 0 ...\n",
            " $ ..bam_files.trimmed_SRR3191543.bam: int  0 0 0 0 0 0 0 0 0 0 ...\n",
            " $ ..bam_files.trimmed_SRR3191544.bam: int  0 0 0 0 0 0 0 0 0 0 ...\n",
            " $ ..bam_files.trimmed_SRR3191545.bam: int  0 0 2 0 0 0 0 0 0 0 ...\n",
            " $ ..bam_files.trimmed_SRR3194428.bam: int  0 0 1 0 0 0 0 0 0 0 ...\n",
            " $ ..bam_files.trimmed_SRR3194429.bam: int  0 0 0 0 0 0 0 0 0 0 ...\n",
            " $ ..bam_files.trimmed_SRR3194430.bam: int  0 0 1 0 0 0 0 0 0 0 ...\n",
            " $ ..bam_files.trimmed_SRR3194431.bam: int  0 0 1 0 0 0 0 0 0 0 ...\n"
          ]
        }
      ]
    },
    {
      "cell_type": "markdown",
      "source": [
        "Dane ze zliczenia odczytów zawierają wiele kolumn, które wyświetlono powyżej. Są to:\n",
        "* `Geneid` - zawiera nazwy genów\n",
        "* `Chr` - zawiera nazwę chromosomu, na którym znajduje się dany gen\n",
        "* `Start` - zawiera całkowitą liczbę, którą jest pozycja startowa genu\n",
        "* `End` - zawiera całkowitą liczbę, którą jest pozycja stop genu\n",
        "* `Strand` - zawiera informację na której nici znajduje się gen (Forward [+]; Reverse [-])\n",
        "* `Length` - zawiera całkowitą liczbę nienakładających się baz w eksonach należących do tego samego genu przed każdym genem\n",
        "* `*.bam` - są to kolumny dla każdego analizowanego pliku `bam`, które zawierają informację o ilości zmapowanych w danym genie odczytów.\n",
        "\n",
        "Kolejnym krokiem jest wyciągnięcie potrzebnych do analizy danych. W tym celu wybrano tylko wartości z kolumn `*.bam` oraz kolumnę `Geneid` w celu nazwania poszczególnych wierszy nazwami genów. Dodatkowo poprawiono nazwy kolumn, aby były bardziej informatywne."
      ],
      "metadata": {
        "id": "iX_OcON2bL8d"
      }
    },
    {
      "cell_type": "code",
      "source": [
        "# wyciągnięcie istotnych danych\n",
        "count_data <- df[,7:14]\n",
        "# zmiana nazw wierszy na nazwy genów\n",
        "rownames(count_data) <- df$Geneid\n",
        "# zmiana nazw kolumn na bardziej informatywne\n",
        "matches <- regexpr(\"SRR(.*).\", colnames(count_data), perl = TRUE)\n",
        "colnames(count_data) <- unlist(strsplit(regmatches(colnames(count_data), matches), \".bam\"))"
      ],
      "metadata": {
        "id": "ltOCMF7pbAED"
      },
      "execution_count": 43,
      "outputs": []
    },
    {
      "cell_type": "markdown",
      "source": [
        "Po odpowiednim przygotowaniu danych należy jeszcze stworzyć odpowiednie obiety wsadowe do funkcji `DESeqDataSetFromMatrix()`, która służy do przechowywania wartości wejściowych, obliczeń pośrednich i wyników analizy ekspresji różnicowej. Poniżej widzimy produkt wyjściowy połączenia nazw plików `bam` z odpowiednimy ich opisami to znaczy, które z nich to kontrola (Mock), a które są zakażone (ZIKV)."
      ],
      "metadata": {
        "id": "XbWDyQoggftN"
      }
    },
    {
      "cell_type": "code",
      "source": [
        "# Przygotowanie wektora nazw plików BAM\n",
        "samples <- names(count_data)\n",
        "\n",
        "# przygotowanie tabeli do wczytania danych do DESeq2\n",
        "cond1 <- rep('Mock', 2)\n",
        "cond2 <- rep('ZIKV', 2)\n",
        "condition <- factor(c(cond1, cond2, cond1, cond2))\n",
        "colData <- data.frame(samples=samples, condition=condition)\n",
        "colData"
      ],
      "metadata": {
        "colab": {
          "base_uri": "https://localhost:8080/",
          "height": 349
        },
        "id": "GCpb0CMFXF2k",
        "outputId": "ba09cb49-0628-448e-c501-a24684502939"
      },
      "execution_count": 44,
      "outputs": [
        {
          "output_type": "display_data",
          "data": {
            "text/html": [
              "<table class=\"dataframe\">\n",
              "<caption>A data.frame: 8 × 2</caption>\n",
              "<thead>\n",
              "\t<tr><th scope=col>samples</th><th scope=col>condition</th></tr>\n",
              "\t<tr><th scope=col>&lt;chr&gt;</th><th scope=col>&lt;fct&gt;</th></tr>\n",
              "</thead>\n",
              "<tbody>\n",
              "\t<tr><td>SRR3191542</td><td>Mock</td></tr>\n",
              "\t<tr><td>SRR3191543</td><td>Mock</td></tr>\n",
              "\t<tr><td>SRR3191544</td><td>ZIKV</td></tr>\n",
              "\t<tr><td>SRR3191545</td><td>ZIKV</td></tr>\n",
              "\t<tr><td>SRR3194428</td><td>Mock</td></tr>\n",
              "\t<tr><td>SRR3194429</td><td>Mock</td></tr>\n",
              "\t<tr><td>SRR3194430</td><td>ZIKV</td></tr>\n",
              "\t<tr><td>SRR3194431</td><td>ZIKV</td></tr>\n",
              "</tbody>\n",
              "</table>\n"
            ],
            "text/markdown": "\nA data.frame: 8 × 2\n\n| samples &lt;chr&gt; | condition &lt;fct&gt; |\n|---|---|\n| SRR3191542 | Mock |\n| SRR3191543 | Mock |\n| SRR3191544 | ZIKV |\n| SRR3191545 | ZIKV |\n| SRR3194428 | Mock |\n| SRR3194429 | Mock |\n| SRR3194430 | ZIKV |\n| SRR3194431 | ZIKV |\n\n",
            "text/latex": "A data.frame: 8 × 2\n\\begin{tabular}{ll}\n samples & condition\\\\\n <chr> & <fct>\\\\\n\\hline\n\t SRR3191542 & Mock\\\\\n\t SRR3191543 & Mock\\\\\n\t SRR3191544 & ZIKV\\\\\n\t SRR3191545 & ZIKV\\\\\n\t SRR3194428 & Mock\\\\\n\t SRR3194429 & Mock\\\\\n\t SRR3194430 & ZIKV\\\\\n\t SRR3194431 & ZIKV\\\\\n\\end{tabular}\n",
            "text/plain": [
              "  samples    condition\n",
              "1 SRR3191542 Mock     \n",
              "2 SRR3191543 Mock     \n",
              "3 SRR3191544 ZIKV     \n",
              "4 SRR3191545 ZIKV     \n",
              "5 SRR3194428 Mock     \n",
              "6 SRR3194429 Mock     \n",
              "7 SRR3194430 ZIKV     \n",
              "8 SRR3194431 ZIKV     "
            ]
          },
          "metadata": {}
        }
      ]
    },
    {
      "cell_type": "markdown",
      "source": [
        "## Przygotowanie danych do normalizacji oraz analizy DE"
      ],
      "metadata": {
        "id": "WVpVlkm1lmB0"
      }
    },
    {
      "cell_type": "markdown",
      "source": [
        "<p align=justify>\n",
        "Następnym krokiem jest wykorzystanie wcześniej wspomnianej funkcji na przygotowanych obiektach <b>count_data</b>, <b>colData</b> oraz <b>condition</b>. Po wczytaniu danych do biblioteki DESeq2 obliczono współczynnik skalowania, który musi uwzględniać różnice w \"głębokość sekwencjonowania\" oraz różnice w kompozycji biblioteki.\n",
        "</p>"
      ],
      "metadata": {
        "id": "IfFR46Z-hpE7"
      }
    },
    {
      "cell_type": "code",
      "source": [
        "# wczytanie danych do bilbioteki DESeq2\n",
        "dds <- DESeqDataSetFromMatrix(countData = count_data,\n",
        "                              colData = colData,\n",
        "                              design = ~condition)\n",
        "\n",
        "# obliczanie współczynnika skalowania\n",
        "dds1 <- estimateSizeFactors(dds)\n",
        "data.frame(SF=dds1$sizeFactor,\n",
        "           Group=condition,\n",
        "           Instrument=c(rep('MiSeq',4), rep('NextSeq 500',4)))"
      ],
      "metadata": {
        "colab": {
          "base_uri": "https://localhost:8080/",
          "height": 349
        },
        "id": "Iln9NwbFXHaL",
        "outputId": "443a3c78-e3d4-41e7-f11b-d9cf6995b3b6"
      },
      "execution_count": 45,
      "outputs": [
        {
          "output_type": "display_data",
          "data": {
            "text/html": [
              "<table class=\"dataframe\">\n",
              "<caption>A data.frame: 8 × 3</caption>\n",
              "<thead>\n",
              "\t<tr><th></th><th scope=col>SF</th><th scope=col>Group</th><th scope=col>Instrument</th></tr>\n",
              "\t<tr><th></th><th scope=col>&lt;dbl&gt;</th><th scope=col>&lt;fct&gt;</th><th scope=col>&lt;chr&gt;</th></tr>\n",
              "</thead>\n",
              "<tbody>\n",
              "\t<tr><th scope=row>SRR3191542</th><td>2.2765713</td><td>Mock</td><td>MiSeq      </td></tr>\n",
              "\t<tr><th scope=row>SRR3191543</th><td>2.5062992</td><td>Mock</td><td>MiSeq      </td></tr>\n",
              "\t<tr><th scope=row>SRR3191544</th><td>2.6172438</td><td>ZIKV</td><td>MiSeq      </td></tr>\n",
              "\t<tr><th scope=row>SRR3191545</th><td>2.0162110</td><td>ZIKV</td><td>MiSeq      </td></tr>\n",
              "\t<tr><th scope=row>SRR3194428</th><td>0.4644844</td><td>Mock</td><td>NextSeq 500</td></tr>\n",
              "\t<tr><th scope=row>SRR3194429</th><td>0.4192226</td><td>Mock</td><td>NextSeq 500</td></tr>\n",
              "\t<tr><th scope=row>SRR3194430</th><td>0.4385514</td><td>ZIKV</td><td>NextSeq 500</td></tr>\n",
              "\t<tr><th scope=row>SRR3194431</th><td>0.4431787</td><td>ZIKV</td><td>NextSeq 500</td></tr>\n",
              "</tbody>\n",
              "</table>\n"
            ],
            "text/markdown": "\nA data.frame: 8 × 3\n\n| <!--/--> | SF &lt;dbl&gt; | Group &lt;fct&gt; | Instrument &lt;chr&gt; |\n|---|---|---|---|\n| SRR3191542 | 2.2765713 | Mock | MiSeq       |\n| SRR3191543 | 2.5062992 | Mock | MiSeq       |\n| SRR3191544 | 2.6172438 | ZIKV | MiSeq       |\n| SRR3191545 | 2.0162110 | ZIKV | MiSeq       |\n| SRR3194428 | 0.4644844 | Mock | NextSeq 500 |\n| SRR3194429 | 0.4192226 | Mock | NextSeq 500 |\n| SRR3194430 | 0.4385514 | ZIKV | NextSeq 500 |\n| SRR3194431 | 0.4431787 | ZIKV | NextSeq 500 |\n\n",
            "text/latex": "A data.frame: 8 × 3\n\\begin{tabular}{r|lll}\n  & SF & Group & Instrument\\\\\n  & <dbl> & <fct> & <chr>\\\\\n\\hline\n\tSRR3191542 & 2.2765713 & Mock & MiSeq      \\\\\n\tSRR3191543 & 2.5062992 & Mock & MiSeq      \\\\\n\tSRR3191544 & 2.6172438 & ZIKV & MiSeq      \\\\\n\tSRR3191545 & 2.0162110 & ZIKV & MiSeq      \\\\\n\tSRR3194428 & 0.4644844 & Mock & NextSeq 500\\\\\n\tSRR3194429 & 0.4192226 & Mock & NextSeq 500\\\\\n\tSRR3194430 & 0.4385514 & ZIKV & NextSeq 500\\\\\n\tSRR3194431 & 0.4431787 & ZIKV & NextSeq 500\\\\\n\\end{tabular}\n",
            "text/plain": [
              "           SF        Group Instrument \n",
              "SRR3191542 2.2765713 Mock  MiSeq      \n",
              "SRR3191543 2.5062992 Mock  MiSeq      \n",
              "SRR3191544 2.6172438 ZIKV  MiSeq      \n",
              "SRR3191545 2.0162110 ZIKV  MiSeq      \n",
              "SRR3194428 0.4644844 Mock  NextSeq 500\n",
              "SRR3194429 0.4192226 Mock  NextSeq 500\n",
              "SRR3194430 0.4385514 ZIKV  NextSeq 500\n",
              "SRR3194431 0.4431787 ZIKV  NextSeq 500"
            ]
          },
          "metadata": {}
        }
      ]
    },
    {
      "cell_type": "markdown",
      "source": [
        "<p align=justify>\n",
        "Z powyższej tabeli można wywnioskować, że urządzenie MiSeq ma mniejszą bibliotekę (duża wartość SF), jednakże idzie za tym wyższe dopasowanie do rozkładu normalnego - większy wpływ normalizacji na wynik ekspresji. Warto również zauważyć, że odczyty obu badanych grup są podobnej ekspresji nie zależnie od urządzenia. <br>\n",
        "Kolejnym krokiem analizy jest przeprowadzenie normalizacji i wizualizacja wyników za pomocą <b>heatmapy</b> oraz <b>analizy PCA</b>.\n",
        "</p>"
      ],
      "metadata": {
        "id": "uLckOzxonDQg"
      }
    },
    {
      "cell_type": "markdown",
      "source": [
        "## Wyniki normalizacji"
      ],
      "metadata": {
        "id": "07UcY2vkz9x2"
      }
    },
    {
      "cell_type": "code",
      "source": [
        "# normalizacja danych\n",
        "log_data <- rlog(dds)\n",
        "norm_data <- assay(log_data)\n",
        "norm_data <- as.data.frame(norm_data)"
      ],
      "metadata": {
        "id": "2e51v3NXXh_T"
      },
      "execution_count": null,
      "outputs": []
    },
    {
      "cell_type": "markdown",
      "source": [
        "<p align=justify>\n",
        "Na podstawie poniższego wykresu przedstawiającego geny z ekspresją wyższą niż 4 można stwierdzić, że geny EEF1A1, ACTG1 oraz TUBA1A mają lepszą ekspresję w większości próbkach. Ekspresja genu MAP1B jest wyższa od pozostałych w próbce SRR3194431, może to oznaczać jakąś specyficzność związaną z zakażeniem ZIKV. Natomiast gen WSB1 ma o wiele wyższą ekspresję we wszystkich próbkach kontrolnych. Pozostałe geny mają prównywalną ekspresję we wszystkich badanych próbkach.\n",
        "</p>"
      ],
      "metadata": {
        "id": "9IXty7h0wRqk"
      }
    },
    {
      "cell_type": "code",
      "source": [
        "# przygotowanie danych do heatmapy z wyższą ekspresją (>= 4)\n",
        "hm_df <- norm_data[apply(norm_data, 1, function(x) sum(x >= 4) > 0),]\n",
        "\n",
        "# heatmap\n",
        "pheatmap(hm_df)"
      ],
      "metadata": {
        "colab": {
          "base_uri": "https://localhost:8080/",
          "height": 437
        },
        "id": "mL_zQfRAaxFd",
        "outputId": "b292c0fa-3c20-494c-df70-50ba81aa89f2"
      },
      "execution_count": 47,
      "outputs": [
        {
          "output_type": "display_data",
          "data": {
            "text/plain": [
              "plot without title"
            ],
            "image/png": "[encoded data removed]"
          },
          "metadata": {
            "image/png": {
              "width": 420,
              "height": 420
            }
          }
        }
      ]
    },
    {
      "cell_type": "markdown",
      "source": [
        "<p align=justify>\n",
        "Wyniki analizy PCA (wykres poniżej) pokazały, że geny SCD, EEF2, NNAT oaz ACTB mają podobną ekspresję we wszystkich próbkach nie zależnie od grupy. Ekspresja genów ACTG1 oraz EEF1A1 są poodbne i tworzą jedną grupę. Natomiast ekspresja genów WSB1, MAP1B oraz TUBA1a nie jest skorelowana z pozostałymi.\n",
        "</p>"
      ],
      "metadata": {
        "id": "qoiw3U6rwPfk"
      }
    },
    {
      "cell_type": "code",
      "source": [
        "# PCA\n",
        "pca_res <- prcomp(hm_df, scale=TRUE)\n",
        "\n",
        "ggplot2::autoplot(pca_res, label=TRUE, shape=FALSE)"
      ],
      "metadata": {
        "colab": {
          "base_uri": "https://localhost:8080/",
          "height": 437
        },
        "id": "keJlx8eRXofq",
        "outputId": "b2bbb984-c761-4f9d-c57c-0c84d1ad5293"
      },
      "execution_count": 13,
      "outputs": [
        {
          "output_type": "display_data",
          "data": {
            "text/plain": [
              "plot without title"
            ],
            "image/png": "[encoded data removed]"
          },
          "metadata": {
            "image/png": {
              "width": 420,
              "height": 420
            }
          }
        }
      ]
    },
    {
      "cell_type": "markdown",
      "source": [
        "## Sprawdzenie istotności ekspresji"
      ],
      "metadata": {
        "id": "kCsa6fh80BfN"
      }
    },
    {
      "cell_type": "code",
      "source": [
        "# Obliczanie DE\n",
        "dds <- DESeq(dds, quiet = FALSE)\n",
        "res <- results(dds)\n",
        "\n",
        "# wyrzucamy rekordy, które mają ekspresję równą 0\n",
        "res <- res[res$baseMean != 0,]\n",
        "\n",
        "# Zachowujemy rekordy, których ekspresja jest 2-krotnie większa\n",
        "res <- res[res$log2FoldChange > 1 | res$log2FoldChange < -1,]\n",
        "\n",
        "# Filtrujemy rekordy i zostawiamy te, która mają wartości padj (adjasted p-value)\n",
        "res <- res[!is.na(res$padj),]\n",
        "\n",
        "# Wybieramy wiersze, których padj jest mniejsze od 0.05 (poziom istotności)\n",
        "res <- res[res$padj < 0.05,]"
      ],
      "metadata": {
        "id": "raxCVF8iXs2p"
      },
      "execution_count": null,
      "outputs": []
    },
    {
      "cell_type": "code",
      "source": [
        "# dane po filtracji\n",
        "res"
      ],
      "metadata": {
        "colab": {
          "base_uri": "https://localhost:8080/",
          "height": 128
        },
        "id": "hLsdglkwamiu",
        "outputId": "02acfb02-2792-41a3-82fb-a392235bf6ce"
      },
      "execution_count": 19,
      "outputs": [
        {
          "output_type": "display_data",
          "data": {
            "text/plain": [
              "log2 fold change (MLE): condition ZIKV vs Mock \n",
              "Wald test p-value: condition ZIKV vs Mock \n",
              "DataFrame with 1 row and 6 columns\n",
              "      baseMean log2FoldChange     lfcSE      stat      pvalue      padj\n",
              "     <numeric>      <numeric> <numeric> <numeric>   <numeric> <numeric>\n",
              "WSB1   17.7125       -2.14851  0.437643  -4.90927 9.14167e-07 0.0076077"
            ]
          },
          "metadata": {}
        }
      ]
    },
    {
      "cell_type": "markdown",
      "source": [
        "<p align=justify>\n",
        "Powyższy wynik wskazuje, że jedynie gen WSB1 ma istotną statystycznie ekspresję w analizowanych próbkach. W tym przypadku można by było stwierdzić, że obniżona ekspresja genu WSB1 ma potencjalny związek z zakażeniem wirusem ZIKV.\n",
        "</p>"
      ],
      "metadata": {
        "id": "NmRzq6DA5SS_"
      }
    },
    {
      "cell_type": "markdown",
      "source": [
        "# LITERATURA\n",
        "\n",
        "[1] Wei Shiand and Yang Liao; \"Rsubread/Subread Users Guide\"; 20 February 2023, Olivia Newton-John Cancer Research Institute; Melbourne,Australia; dostęp z 7.02.2024; url=https://subread.sourceforge.net/SubreadUsersGuide.pdf\n",
        "\n",
        "[2] Tang H et al., \"Zika Virus Infects Human Cortical Neural Progenitors and Attenuates Their Growth.\", Cell Stem Cell, 2016 May 5;18(5):587-90, https://doi.org/10.1016/j.stem.2016.02.016"
      ],
      "metadata": {
        "id": "PSk-XziTk7nX"
      }
    }
  ]
}